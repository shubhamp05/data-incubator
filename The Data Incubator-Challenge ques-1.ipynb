{
 "cells": [
  {
   "cell_type": "code",
   "execution_count": 1,
   "metadata": {
    "collapsed": true
   },
   "outputs": [],
   "source": [
    "import numpy as np\n",
    "import math\n",
    "import pandas as pd\n",
    "import datetime"
   ]
  },
  {
   "cell_type": "code",
   "execution_count": 2,
   "metadata": {
    "collapsed": false
   },
   "outputs": [],
   "source": [
    "## All allowable moves of knight\n",
    "move = {4:[9,3],9:[4,2],2:[7,9],3:[4,8],8:[1,3],1:[6,8],6:[1,7],7:[6,2]}"
   ]
  },
  {
   "cell_type": "code",
   "execution_count": 3,
   "metadata": {
    "collapsed": true
   },
   "outputs": [],
   "source": [
    "## recursive function to calculate running sum\n",
    "def moves(mv,a):\n",
    "    mv = np.random.choice(move.get(mv))\n",
    "    a += mv\n",
    "    return(mv,a)"
   ]
  },
  {
   "cell_type": "code",
   "execution_count": 23,
   "metadata": {
    "collapsed": false
   },
   "outputs": [],
   "source": [
    "## function to call recursive function and return result of one iteration as mod 10\n",
    "def get_moves_10(moves,jumps):\n",
    "    a = 0\n",
    "    T = jumps\n",
    "    mv = np.random.choice([4,6])\n",
    "    a += mv\n",
    "    T -= 1\n",
    "    for i in range(T):\n",
    "        mv,a = moves(mv,a)\n",
    "    return(np.mod(a,10))"
   ]
  },
  {
   "cell_type": "code",
   "execution_count": 24,
   "metadata": {
    "collapsed": true
   },
   "outputs": [],
   "source": [
    "## function to call recursive function and return result of one iteration as mod 1024\n",
    "def get_moves_1024(moves,jumps):\n",
    "    a = 0\n",
    "    T = jumps\n",
    "    mv = np.random.choice([4,6])\n",
    "    a += mv\n",
    "    T -= 1\n",
    "    for i in range(T):\n",
    "        mv,a = moves(mv,a)\n",
    "    return(np.mod(a,1024))"
   ]
  },
  {
   "cell_type": "code",
   "execution_count": 25,
   "metadata": {
    "collapsed": false
   },
   "outputs": [],
   "source": [
    "## Generating sysnthetic samples and create population of Number of moves given s mod 10\n",
    "sum_mod = []\n",
    "jumps = 10\n",
    "for i in range(10000):\n",
    "    sum_mod.append(get_moves_10(moves,jumps))"
   ]
  },
  {
   "cell_type": "code",
   "execution_count": 28,
   "metadata": {
    "collapsed": true
   },
   "outputs": [],
   "source": [
    "## Generating sysnthetic samples and create population of Number of moves given s mod 1024\n",
    "sum_mod = []\n",
    "jumps = 1024\n",
    "for i in range(10000):\n",
    "    sum_mod.append(get_moves_1024(moves,jumps))"
   ]
  },
  {
   "cell_type": "code",
   "execution_count": 26,
   "metadata": {
    "collapsed": false
   },
   "outputs": [
    {
     "name": "stdout",
     "output_type": "stream",
     "text": [
      "('Expected value of S mod 10 when jumps is equal to 10', 4.9833999999999996)\n"
     ]
    }
   ],
   "source": [
    "## Expected value of S mod 10 when Jumps T = 10 is:\n",
    "print(\"Expected value of S mod 10 when jumps is equal to 10\",np.mean(sum_mod))"
   ]
  },
  {
   "cell_type": "code",
   "execution_count": 27,
   "metadata": {
    "collapsed": false
   },
   "outputs": [
    {
     "name": "stdout",
     "output_type": "stream",
     "text": [
      "('Standard Deviation of S mod 10 when jumps is equal to 10', 2.8260439557798813)\n"
     ]
    }
   ],
   "source": [
    "## Standard Deviation of S mod 10 when Jumps T = 10 is:\n",
    "print(\"Standard Deviation of S mod 10 when jumps is equal to 10\",np.std(sum_mod))"
   ]
  },
  {
   "cell_type": "code",
   "execution_count": 29,
   "metadata": {
    "collapsed": false
   },
   "outputs": [
    {
     "name": "stdout",
     "output_type": "stream",
     "text": [
      "('Expected value of S mod 10 when jumps is equal to 1024', 504.85939999999999)\n"
     ]
    }
   ],
   "source": [
    "## Expected value of S mod 10 when Jumps T = 1024 is:\n",
    "print(\"Expected value of S mod 10 when jumps is equal to 1024\",np.mean(sum_mod))"
   ]
  },
  {
   "cell_type": "code",
   "execution_count": 30,
   "metadata": {
    "collapsed": false
   },
   "outputs": [
    {
     "name": "stdout",
     "output_type": "stream",
     "text": [
      "('Standard Deviation of S mod 10 when jumps is equal to 1024', 472.47224366267272)\n"
     ]
    }
   ],
   "source": [
    "## Standard Deviation of S mod 10 when Jumps T = 1024 is:\n",
    "print(\"Standard Deviation of S mod 10 when jumps is equal to 1024\",np.std(sum_mod))"
   ]
  },
  {
   "cell_type": "code",
   "execution_count": null,
   "metadata": {
    "collapsed": true
   },
   "outputs": [],
   "source": []
  },
  {
   "cell_type": "code",
   "execution_count": null,
   "metadata": {
    "collapsed": true
   },
   "outputs": [],
   "source": []
  },
  {
   "cell_type": "code",
   "execution_count": null,
   "metadata": {
    "collapsed": true
   },
   "outputs": [],
   "source": []
  },
  {
   "cell_type": "code",
   "execution_count": null,
   "metadata": {
    "collapsed": true
   },
   "outputs": [],
   "source": []
  }
 ],
 "metadata": {
  "kernelspec": {
   "display_name": "Python 2",
   "language": "python",
   "name": "python2"
  },
  "language_info": {
   "codemirror_mode": {
    "name": "ipython",
    "version": 2
   },
   "file_extension": ".py",
   "mimetype": "text/x-python",
   "name": "python",
   "nbconvert_exporter": "python",
   "pygments_lexer": "ipython2",
   "version": "2.7.11"
  }
 },
 "nbformat": 4,
 "nbformat_minor": 0
}
