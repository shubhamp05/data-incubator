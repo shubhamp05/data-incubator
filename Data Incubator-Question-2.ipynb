{
 "cells": [
  {
   "cell_type": "code",
   "execution_count": 40,
   "metadata": {
    "collapsed": false
   },
   "outputs": [],
   "source": [
    "import numpy as np\n",
    "import pandas as pd\n",
    "import datetime\n",
    "import pandoc"
   ]
  },
  {
   "cell_type": "code",
   "execution_count": 2,
   "metadata": {
    "collapsed": false
   },
   "outputs": [
    {
     "name": "stderr",
     "output_type": "stream",
     "text": [
      "C:\\Users\\Nishu\\Anaconda2\\lib\\site-packages\\IPython\\core\\interactiveshell.py:2723: DtypeWarning: Columns (29) have mixed types. Specify dtype option on import or set low_memory=False.\n",
      "  interactivity=interactivity, compiler=compiler, result=result)\n"
     ]
    }
   ],
   "source": [
    "assessment = pd.read_csv('Historic_Secured_Property_Tax_Rolls.csv',parse_dates=True)"
   ]
  },
  {
   "cell_type": "code",
   "execution_count": 3,
   "metadata": {
    "collapsed": false,
    "scrolled": true
   },
   "outputs": [],
   "source": [
    "assessment.columns = ['Closed_Roll_Fiscal_Year',\n",
    "'Property_Location',\n",
    "'Neighborhood_Code',\n",
    "'Neighborhood_Code_Definition',\n",
    "'Block_and_Lot_Number',\n",
    "'Volume_Number',\n",
    "'Property_Class_Code',\n",
    "'Property_Class_Code_Definition',\n",
    "'Year_Property_Built',\n",
    "'Number_of_Bathrooms',\n",
    "'Number_of_Bedrooms',\n",
    "'Number_of_Rooms',\n",
    "'Number_of_Stories',\n",
    "'Number_of_Units',\n",
    "'Characteristics_Change_Date',\n",
    "'Zoning_Code',\n",
    "'Construction_Type',\n",
    "'Lot_Depth',\n",
    "'Lot_Frontage',\n",
    "'Property_Area_in_Square_Feet',\n",
    "'Basement_Area',\n",
    "'Lot_Area',\n",
    "'Lot_Code',\n",
    "'Prior_Sales_Date',\n",
    "'Recordation_Date',\n",
    "'Document_Number',\n",
    "'Document_Number_2',\n",
    "'Tax_Rate_Area_Code',\n",
    "'Percent_of_Ownership',\n",
    "'Closed_Roll_Exemption_Type_Code',\n",
    "'Closed_Roll_Exemption_Type_Code_Definition',\n",
    "'Closed_Roll_Status_Code',\n",
    "'Closed_Roll_Misc_Exemption_Value',\n",
    "'Closed_Roll_Homeowner_Exemption_Value',\n",
    "'Current_Sales_Date',\n",
    "'Closed_Roll_Assessed_Fixtures_Value',\n",
    "'Closed_Roll_Assessed_Improvement_Value',\n",
    "'Closed_Roll_Assessed_Land_Value',\n",
    "'Closed_Roll_Assessed_Personal_Prop_Value',\n",
    "'Zipcode_of_Parcel',\n",
    "'Supervisor_District',\n",
    "'Neighborhoods_-_Analysis_Boundaries',\n",
    "'Location']"
   ]
  },
  {
   "cell_type": "markdown",
   "metadata": {},
   "source": [
    "### Problem-1"
   ]
  },
  {
   "cell_type": "code",
   "execution_count": 7,
   "metadata": {
    "collapsed": false
   },
   "outputs": [
    {
     "name": "stdout",
     "output_type": "stream",
     "text": [
      "D class code has most no of assessments\n"
     ]
    },
    {
     "name": "stderr",
     "output_type": "stream",
     "text": [
      "C:\\Users\\Nishu\\Anaconda2\\lib\\site-packages\\numpy\\lib\\arraysetops.py:200: FutureWarning: numpy not_equal will not check object identity in the future. The comparison did not return the same result as suggested by the identity (`is`)) and will change.\n",
      "  flag = np.concatenate(([True], aux[1:] != aux[:-1]))\n"
     ]
    }
   ],
   "source": [
    "## Most common class \n",
    "a,b = np.unique(assessment.Property_Class_Code,return_counts=True)\n",
    "c = zip(a,b)\n",
    "print(\"D class code has most no of assessments\")"
   ]
  },
  {
   "cell_type": "code",
   "execution_count": 8,
   "metadata": {
    "collapsed": false
   },
   "outputs": [
    {
     "name": "stdout",
     "output_type": "stream",
     "text": [
      "('No of assessments in class D : ', 758861)\n"
     ]
    }
   ],
   "source": [
    "print(\"No of assessments in class D : \",len(assessment[assessment.Property_Class_Code == 'D']))"
   ]
  },
  {
   "cell_type": "code",
   "execution_count": 9,
   "metadata": {
    "collapsed": false
   },
   "outputs": [
    {
     "name": "stdout",
     "output_type": "stream",
     "text": [
      "('No of total assessments :', 1612110)\n"
     ]
    }
   ],
   "source": [
    "print(\"No of total assessments :\",len(assessment))"
   ]
  },
  {
   "cell_type": "code",
   "execution_count": 10,
   "metadata": {
    "collapsed": false
   },
   "outputs": [
    {
     "name": "stdout",
     "output_type": "stream",
     "text": [
      "('The Frcation of assessments for most popular class is :', 0.4707253227137106)\n"
     ]
    }
   ],
   "source": [
    "## Question-1 Fraction of assessments for most popular class 'D' is:\n",
    "\n",
    "print(\"The Frcation of assessments for most popular class is :\",758861./1612110)"
   ]
  },
  {
   "cell_type": "markdown",
   "metadata": {},
   "source": [
    "### Problem-2"
   ]
  },
  {
   "cell_type": "code",
   "execution_count": 11,
   "metadata": {
    "collapsed": false
   },
   "outputs": [],
   "source": [
    "## Function returning median assessment improvement value of latest assessment year for non-zero assessments\n",
    "def median_assessments_improvement(assessment):\n",
    "    assess_improvement=assessment[assessment['Closed_Roll_Assessed_Improvement_Value'] != 0]\n",
    "    assess_improvement['Closed_Roll_Fiscal_Year_max']=assess_improvement.groupby('Block_and_Lot_Number')['Closed_Roll_Fiscal_Year'].transform(max)\n",
    "    final_df = assess_improvement[np.equal(assess_improvement['Closed_Roll_Fiscal_Year'],assess_improvement['Closed_Roll_Fiscal_Year_max'])]\n",
    "    return(final_df['Closed_Roll_Assessed_Improvement_Value'].median())"
   ]
  },
  {
   "cell_type": "code",
   "execution_count": 12,
   "metadata": {
    "collapsed": false
   },
   "outputs": [
    {
     "name": "stderr",
     "output_type": "stream",
     "text": [
      "C:\\Users\\Nishu\\Anaconda2\\lib\\site-packages\\ipykernel\\__main__.py:4: SettingWithCopyWarning: \n",
      "A value is trying to be set on a copy of a slice from a DataFrame.\n",
      "Try using .loc[row_indexer,col_indexer] = value instead\n",
      "\n",
      "See the caveats in the documentation: http://pandas.pydata.org/pandas-docs/stable/indexing.html#indexing-view-versus-copy\n"
     ]
    },
    {
     "name": "stdout",
     "output_type": "stream",
     "text": [
      "('Median assessment improvement value for latest financial year :', 209161.0)\n"
     ]
    }
   ],
   "source": [
    "print(\"Median assessment improvement value for latest financial year :\",median_assessments_improvement(assessment))"
   ]
  },
  {
   "cell_type": "markdown",
   "metadata": {},
   "source": [
    "### Problem-3"
   ]
  },
  {
   "cell_type": "code",
   "execution_count": 13,
   "metadata": {
    "collapsed": true
   },
   "outputs": [],
   "source": [
    "def average_improvement_each_neighborhood(assessment):\n",
    "    average_improvement = []\n",
    "    assess_improvement=assessment[assessment['Closed_Roll_Assessed_Improvement_Value'] != 0]\n",
    "    average_improvement = assess_improvement.groupby('Neighborhood_Code')['Closed_Roll_Assessed_Improvement_Value'].mean()\n",
    "    return(average_improvement.max() - average_improvement.min())"
   ]
  },
  {
   "cell_type": "code",
   "execution_count": 14,
   "metadata": {
    "collapsed": true
   },
   "outputs": [],
   "source": [
    "avg_diff = average_improvement_each_neighborhood(assessment)"
   ]
  },
  {
   "cell_type": "code",
   "execution_count": 15,
   "metadata": {
    "collapsed": false
   },
   "outputs": [
    {
     "name": "stdout",
     "output_type": "stream",
     "text": [
      "('The average difference between greatest & least average assess improvement value of each non-zero neighborhood code :', 5073477.6646721791)\n"
     ]
    }
   ],
   "source": [
    "print(\"The average difference between greatest & least average assess improvement value of each non-zero neighborhood code :\",average_improvement_each_neighborhood(assessment))"
   ]
  },
  {
   "cell_type": "markdown",
   "metadata": {},
   "source": [
    "### Problem-4"
   ]
  },
  {
   "cell_type": "code",
   "execution_count": 16,
   "metadata": {
    "collapsed": true
   },
   "outputs": [],
   "source": [
    "def rate_of_land_values(assessment):\n",
    "    assess_value = assessment[assessment['Closed_Roll_Assessed_Land_Value'] != 0.0]\n",
    "    min_land_value = min(assess_value.groupby('Closed_Roll_Fiscal_Year')['Closed_Roll_Assessed_Land_Value'].max())\n",
    "    max_land_value = max(assess_value.groupby('Closed_Roll_Fiscal_Year')['Closed_Roll_Assessed_Land_Value'].max())\n",
    "    \n",
    "    ## Used the formula P = P0*e^(rate*time_period)\n",
    "    ## P = max_land_value\n",
    "    ## P0 = min_land_value\n",
    "    ## Time-period = 6 years\n",
    "    ## rate = r to be determined\n",
    "    \n",
    "    r = np.log(max_land_value/min_land_value)/6\n",
    "    \n",
    "    ## The rate of land_value growth over 6 years is:\n",
    "    print(\"The rate of land_value growth over 6 years \",r)\n",
    "    \n",
    "    ## We are interested in yearly growth, so\n",
    "    print(\"The yearly growth rate of land_value :\",r/6)"
   ]
  },
  {
   "cell_type": "code",
   "execution_count": 17,
   "metadata": {
    "collapsed": false
   },
   "outputs": [
    {
     "name": "stdout",
     "output_type": "stream",
     "text": [
      "('The rate of land_value growth over 6 years ', 0.014427005905268119)\n",
      "('The yearly growth rate of land_value :', 0.002404500984211353)\n"
     ]
    }
   ],
   "source": [
    "rate_of_land_values(assessment)"
   ]
  },
  {
   "cell_type": "markdown",
   "metadata": {},
   "source": [
    "### Problem-5"
   ]
  },
  {
   "cell_type": "code",
   "execution_count": 4,
   "metadata": {
    "collapsed": false,
    "scrolled": false
   },
   "outputs": [],
   "source": [
    "location_non_zero = assessment.loc[(~assessment.Location.isnull())]"
   ]
  },
  {
   "cell_type": "code",
   "execution_count": 10,
   "metadata": {
    "collapsed": false
   },
   "outputs": [],
   "source": [
    "location_non_zero.Location = [tuple(each[1:-1].split(','))  for each in location_non_zero.Location]"
   ]
  },
  {
   "cell_type": "code",
   "execution_count": 9,
   "metadata": {
    "collapsed": false
   },
   "outputs": [],
   "source": [
    "location_non_zero['latitude'] = [location_non_zero.Location[i][0] for i in location_non_zero.index.values]"
   ]
  },
  {
   "cell_type": "code",
   "execution_count": 8,
   "metadata": {
    "collapsed": false
   },
   "outputs": [],
   "source": [
    "location_non_zero['longitude'] = [location_non_zero.Location[i][1] for i in location_non_zero.index.values]"
   ]
  },
  {
   "cell_type": "code",
   "execution_count": 16,
   "metadata": {
    "collapsed": false
   },
   "outputs": [],
   "source": [
    "location_non_zero.latitude = location_non_zero.latitude.astype(np.float32)\n",
    "location_non_zero.longitude = location_non_zero.longitude.astype(np.float32)"
   ]
  },
  {
   "cell_type": "code",
   "execution_count": 20,
   "metadata": {
    "collapsed": false
   },
   "outputs": [],
   "source": [
    "list = []\n",
    "for code in location_non_zero.Neighborhood_Code.unique():\n",
    "    df = location_non_zero.loc[(location_non_zero.Neighborhood_Code) == code]\n",
    "    area = np.std(df.latitude)*np.std(df.longitude)*np.pi\n",
    "    list.append([code,area])"
   ]
  },
  {
   "cell_type": "code",
   "execution_count": 28,
   "metadata": {
    "collapsed": false
   },
   "outputs": [],
   "source": [
    "area = [each[1] for each in list]"
   ]
  },
  {
   "cell_type": "code",
   "execution_count": 35,
   "metadata": {
    "collapsed": false
   },
   "outputs": [],
   "source": [
    "def area_by_neighborhood(assessment):\n",
    "    location_non_zero = assessment.loc[(~assessment.Location.isnull())]\n",
    "    location_non_zero.Location = [tuple(each[1:-1].split(','))  for each in location_non_zero.Location]\n",
    "    location_non_zero['latitude'] = [location_non_zero.Location[i][0] for i in location_non_zero.index.values]\n",
    "    location_non_zero['longitude'] = [location_non_zero.Location[i][1] for i in location_non_zero.index.values]\n",
    "    location_non_zero.latitude = location_non_zero.latitude.astype(np.float32)\n",
    "    location_non_zero.longitude = location_non_zero.longitude.astype(np.float32)\n",
    "    list = []\n",
    "    for code in location_non_zero.Neighborhood_Code.unique():\n",
    "        df = location_non_zero.loc[(location_non_zero.Neighborhood_Code) == code]\n",
    "        area = np.std(df.latitude)*np.std(df.longitude)*np.pi\n",
    "        list.append([code,area])\n",
    "        ar = [each[1] for each in list]\n",
    "    return(max(ar))"
   ]
  },
  {
   "cell_type": "code",
   "execution_count": 38,
   "metadata": {
    "collapsed": false
   },
   "outputs": [
    {
     "name": "stderr",
     "output_type": "stream",
     "text": [
      "C:\\Users\\Nishu\\Anaconda2\\lib\\site-packages\\ipykernel\\__main__.py:4: SettingWithCopyWarning: \n",
      "A value is trying to be set on a copy of a slice from a DataFrame.\n",
      "Try using .loc[row_indexer,col_indexer] = value instead\n",
      "\n",
      "See the caveats in the documentation: http://pandas.pydata.org/pandas-docs/stable/indexing.html#indexing-view-versus-copy\n",
      "C:\\Users\\Nishu\\Anaconda2\\lib\\site-packages\\ipykernel\\__main__.py:5: SettingWithCopyWarning: \n",
      "A value is trying to be set on a copy of a slice from a DataFrame.\n",
      "Try using .loc[row_indexer,col_indexer] = value instead\n",
      "\n",
      "See the caveats in the documentation: http://pandas.pydata.org/pandas-docs/stable/indexing.html#indexing-view-versus-copy\n"
     ]
    },
    {
     "name": "stdout",
     "output_type": "stream",
     "text": [
      "('Area of larget neighborhood using ellipse ', 0.0019197269946201632)\n"
     ]
    }
   ],
   "source": [
    "print(\"Area of larget neighborhood using ellipse \",area_by_neighborhood(assessment))"
   ]
  },
  {
   "cell_type": "markdown",
   "metadata": {},
   "source": [
    "### Problem-6"
   ]
  },
  {
   "cell_type": "code",
   "execution_count": 18,
   "metadata": {
    "collapsed": true
   },
   "outputs": [],
   "source": [
    "def mean_units_diff(assessment):\n",
    "    assessment['Year_Property_Built'].fillna(value=0.0,inplace=True)\n",
    "    non_zero_units = assessment[assessment['Number_of_Units']!= 0]\n",
    "    non_zero_unit_geq_1950=non_zero_units[non_zero_units['Year_Property_Built'] >= 1950.0]\n",
    "    non_zero_unit_geq_1950['Closed_Roll_Fiscal_Year_min'] = non_zero_unit_geq_1950.groupby('Block_and_Lot_Number')['Closed_Roll_Fiscal_Year'].transform(min)\n",
    "    non_zero_unit_lt_1950=non_zero_units[non_zero_units['Year_Property_Built'] < 1950.0]\n",
    "    non_zero_unit_lt_1950['Closed_Roll_Fiscal_Year_min'] = non_zero_unit_lt_1950.groupby('Block_and_Lot_Number')['Closed_Roll_Fiscal_Year'].transform(min)\n",
    "    final_geq_1950 = non_zero_unit_geq_1950[np.equal(non_zero_unit_geq_1950['Closed_Roll_Fiscal_Year_min'],non_zero_unit_geq_1950['Closed_Roll_Fiscal_Year_min'])]\n",
    "    final_lt_1950 = non_zero_unit_lt_1950[np.equal(non_zero_unit_lt_1950['Closed_Roll_Fiscal_Year_min'],non_zero_unit_lt_1950['Closed_Roll_Fiscal_Year_min'])]\n",
    "    return(np.subtract(final_geq_1950['Number_of_Units'].mean(),final_lt_1950['Number_of_Units'].mean()))"
   ]
  },
  {
   "cell_type": "code",
   "execution_count": 19,
   "metadata": {
    "collapsed": false
   },
   "outputs": [
    {
     "name": "stderr",
     "output_type": "stream",
     "text": [
      "C:\\Users\\Nishu\\Anaconda2\\lib\\site-packages\\ipykernel\\__main__.py:5: SettingWithCopyWarning: \n",
      "A value is trying to be set on a copy of a slice from a DataFrame.\n",
      "Try using .loc[row_indexer,col_indexer] = value instead\n",
      "\n",
      "See the caveats in the documentation: http://pandas.pydata.org/pandas-docs/stable/indexing.html#indexing-view-versus-copy\n",
      "C:\\Users\\Nishu\\Anaconda2\\lib\\site-packages\\ipykernel\\__main__.py:7: SettingWithCopyWarning: \n",
      "A value is trying to be set on a copy of a slice from a DataFrame.\n",
      "Try using .loc[row_indexer,col_indexer] = value instead\n",
      "\n",
      "See the caveats in the documentation: http://pandas.pydata.org/pandas-docs/stable/indexing.html#indexing-view-versus-copy\n"
     ]
    },
    {
     "name": "stdout",
     "output_type": "stream",
     "text": [
      "('Difference between average no of units build after 1950 and before 1950 :', 0.5828151741183123)\n"
     ]
    }
   ],
   "source": [
    "print(\"Difference between average no of units build after 1950 and before 1950 :\",mean_units_diff(assessment))"
   ]
  },
  {
   "cell_type": "markdown",
   "metadata": {},
   "source": [
    "### Problem-7"
   ]
  },
  {
   "cell_type": "code",
   "execution_count": 49,
   "metadata": {
    "collapsed": true
   },
   "outputs": [],
   "source": [
    "def ratio_means_by_zipcode(assessment):\n",
    "    non_zero = assessment.loc[(assessment.Number_of_Bedrooms !=0)&(assessment.Number_of_Units != 0)]\n",
    "    avg_no_bedrooms = non_zero.groupby('Zipcode_of_Parcel').Number_of_Bedrooms.mean()\n",
    "    avg_no_units = non_zero.groupby('Zipcode_of_Parcel').Number_of_Units.mean()\n",
    "    ratio_of_means = np.divide(avg_no_bedrooms.values,avg_no_units.values)\n",
    "    return(ratio_of_means.max())"
   ]
  },
  {
   "cell_type": "code",
   "execution_count": 50,
   "metadata": {
    "collapsed": false
   },
   "outputs": [
    {
     "name": "stdout",
     "output_type": "stream",
     "text": [
      "('Maximum average number of bedrooms per unit by zipcode :', 3.8768601648013776)\n"
     ]
    }
   ],
   "source": [
    "print(\"Maximum average number of bedrooms per unit by zipcode :\",ratio_means_by_zipcode(assessment))"
   ]
  },
  {
   "cell_type": "markdown",
   "metadata": {},
   "source": [
    "### Problem-8"
   ]
  },
  {
   "cell_type": "code",
   "execution_count": 52,
   "metadata": {
    "collapsed": false
   },
   "outputs": [],
   "source": [
    "property_area_by_zipcode = assessment.groupby('Zipcode_of_Parcel').Property_Area_in_Square_Feet.sum()"
   ]
  },
  {
   "cell_type": "code",
   "execution_count": 53,
   "metadata": {
    "collapsed": true
   },
   "outputs": [],
   "source": [
    "lot_area_by_zipcode = assessment.groupby('Zipcode_of_Parcel').Lot_Area.sum()"
   ]
  },
  {
   "cell_type": "code",
   "execution_count": 54,
   "metadata": {
    "collapsed": true
   },
   "outputs": [],
   "source": [
    "ratio_property_to_Lot_by_zip = np.divide(property_area_by_zipcode.values,lot_area_by_zipcode.values)"
   ]
  },
  {
   "cell_type": "code",
   "execution_count": 56,
   "metadata": {
    "collapsed": false
   },
   "outputs": [
    {
     "data": {
      "text/plain": [
       "12.486006304191623"
      ]
     },
     "execution_count": 56,
     "metadata": {},
     "output_type": "execute_result"
    }
   ],
   "source": [
    "ratio_property_to_Lot_by_zip.max()"
   ]
  },
  {
   "cell_type": "code",
   "execution_count": 57,
   "metadata": {
    "collapsed": true
   },
   "outputs": [],
   "source": [
    "def property_to_lot_by_zip(assessment):\n",
    "    property_area_by_zipcode = assessment.groupby('Zipcode_of_Parcel').Property_Area_in_Square_Feet.sum()\n",
    "    lot_area_by_zipcode = assessment.groupby('Zipcode_of_Parcel').Lot_Area.sum()\n",
    "    ratio_property_to_Lot_by_zip = np.divide(property_area_by_zipcode.values,lot_area_by_zipcode.values)\n",
    "    return(ratio_property_to_Lot_by_zip.max())"
   ]
  },
  {
   "cell_type": "code",
   "execution_count": 59,
   "metadata": {
    "collapsed": false
   },
   "outputs": [
    {
     "name": "stdout",
     "output_type": "stream",
     "text": [
      "('The ratio of maximum property to surface are by zipcode :', 12.486006304191623)\n"
     ]
    }
   ],
   "source": [
    "print(\"The ratio of maximum property to surface are by zipcode :\",property_to_lot_by_zip(assessment))"
   ]
  }
 ],
 "metadata": {
  "kernelspec": {
   "display_name": "Python 2",
   "language": "python",
   "name": "python2"
  },
  "language_info": {
   "codemirror_mode": {
    "name": "ipython",
    "version": 2
   },
   "file_extension": ".py",
   "mimetype": "text/x-python",
   "name": "python",
   "nbconvert_exporter": "python",
   "pygments_lexer": "ipython2",
   "version": "2.7.11"
  }
 },
 "nbformat": 4,
 "nbformat_minor": 0
}
